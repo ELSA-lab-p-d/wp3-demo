{
 "cells": [
  {
   "cell_type": "code",
   "execution_count": null,
   "metadata": {},
   "outputs": [],
   "source": [
    "vantage_broker_url = \"http://localhost\"\n",
    "vantage_broker_username = \"inforing-user\"\n",
    "vantage_broker_password = \"inforing-password\"\n",
    "\n",
    "vantage_broker_encryption = None\n",
    "vantage_broker_port = 5000\n",
    "vantage_broker_api_path = \"/api\""
   ]
  },
  {
   "cell_type": "code",
   "execution_count": null,
   "metadata": {},
   "outputs": [],
   "source": [
    "from vantage6.client import Client\n",
    "client = Client(vantage_broker_url, vantage_broker_port, vantage_broker_api_path, log_level='critical')\n",
    "client.authenticate(vantage_broker_username, vantage_broker_password)\n",
    "client.setup_encryption(vantage_broker_encryption)"
   ]
  },
  {
   "cell_type": "code",
   "execution_count": null,
   "metadata": {},
   "outputs": [],
   "source": [
    "import json\n",
    "collaboration_list = client.collaboration.list()\n",
    "# print(json.dumps(collaboration_list, indent=2))\n",
    "collaboration_index = 0\n",
    "organization_ids_ = [ ]\n",
    "\n",
    "for organization in collaboration_list[collaboration_index]['organizations']:\n",
    "    organization_ids_.append(organization['id'])\n",
    "# print(json.dumps(client.node.list(), indent=2))"
   ]
  },
  {
   "cell_type": "code",
   "execution_count": null,
   "metadata": {},
   "outputs": [],
   "source": [
    "input_ = {\n",
    "    \"method\":\"count_citizens\",\n",
    "    \"master\": True\n",
    "}\n",
    "\n",
    "task = client.post_task(\n",
    "    name=\"CountCitizens\",\n",
    "    image=\"ghcr.io/elsa-lab-p-d/wp3-demo/count\",\n",
    "    collaboration_id=collaboration_list[collaboration_index]['id'],#Get the first collaboration associated with user\n",
    "    input_= input_,\n",
    "    organization_ids=[organization_ids_[0]],\n",
    ")"
   ]
  },
  {
   "cell_type": "code",
   "execution_count": null,
   "metadata": {},
   "outputs": [],
   "source": [
    "print(f\"run-id: {task}\")"
   ]
  },
  {
   "cell_type": "code",
   "execution_count": null,
   "metadata": {},
   "outputs": [],
   "source": [
    "import time\n",
    "import json\n",
    "task_info = client.task.get(task['id'])\n",
    "i=0\n",
    "while ((task_info['status']!=\"completed\") and i<10):\n",
    "    sleep_time = 5\n",
    "    time.sleep(sleep_time)\n",
    "    print(f\"Waiting for {sleep_time} seconds\")\n",
    "    i+=1\n",
    "    task_info = client.task.get(task['id'])\n",
    "\n",
    "print(f\"Status: {task_info['status']}\")\n",
    "print(f\"Result ID: {task_info['results'][0]['id']}\")\n",
    "\n",
    "if (task_info['status']==\"completed\"):\n",
    "    results = client.result.get(task_info[\"results\"][0][\"id\"])\n",
    "    print(json.dumps(results['result'], indent=2))\n",
    "else:\n",
    "    results = client.result.get(task_info[\"results\"][0][\"id\"])\n",
    "    # results = client.result.from_task(task_info[\"run_id\"])\n",
    "    print(results[0]['log'])"
   ]
  }
 ],
 "metadata": {
  "kernelspec": {
   "display_name": "Python 3 (ipykernel)",
   "language": "python",
   "name": "python3"
  },
  "language_info": {
   "codemirror_mode": {
    "name": "ipython",
    "version": 3
   },
   "file_extension": ".py",
   "mimetype": "text/x-python",
   "name": "python",
   "nbconvert_exporter": "python",
   "pygments_lexer": "ipython3",
   "version": "3.9.18"
  }
 },
 "nbformat": 4,
 "nbformat_minor": 4
}
